{
 "cells": [
  {
   "cell_type": "markdown",
   "id": "c710949a",
   "metadata": {},
   "source": [
    "Importing Libraries"
   ]
  },
  {
   "cell_type": "code",
   "execution_count": 1,
   "id": "09a6ba97",
   "metadata": {},
   "outputs": [],
   "source": [
    "import pandas as pd\n",
    "import numpy as np\n",
    "\n",
    "import matplotlib as mpl\n",
    "import matplotlib.pyplot as plt\n",
    "import matplotlib.style as style\n",
    "import seaborn as sns\n",
    "%matplotlib inline"
   ]
  },
  {
   "cell_type": "markdown",
   "id": "bf577c22",
   "metadata": {},
   "source": [
    "Loading the data set"
   ]
  },
  {
   "cell_type": "code",
   "execution_count": 2,
   "id": "7d392d1e",
   "metadata": {},
   "outputs": [],
   "source": [
    "df_train= pd.read_csv(\"train.csv\")\n",
    "df_test= pd.read_csv(\"test.csv\")\n",
    "df_orig = df_train.copy"
   ]
  },
  {
   "cell_type": "code",
   "execution_count": 3,
   "id": "f162ce5e",
   "metadata": {},
   "outputs": [],
   "source": [
    "df_train['data']='train'\n",
    "df_test['data']='test'\n",
    "data = pd.concat([df_train,df_test],axis=0, sort=True)"
   ]
  },
  {
   "cell_type": "markdown",
   "id": "ac58d1ac",
   "metadata": {},
   "source": [
    "Exploratory Data Analysis(EDA): Exploratory data analysis is a complement to inferential statistics, which tends to be fairly rigid with rules and formulas. At an advanced level, EDA involves looking at and describing the data set from different angles and then summarizing it.\n",
    "\n",
    "Data Exploration\n",
    "\n",
    "we will perform the below operations to check what the data set comprises of.\n",
    "\n",
    "– the shape of the dataset \n",
    "– info of the dataset\n",
    "– summary of the dataset\n",
    "– head of the dataset\n",
    "\n",
    "The head function will tell you the top records in the data set. By default, python shows you only the top 5 records."
   ]
  },
  {
   "cell_type": "code",
   "execution_count": 4,
   "id": "1a692314",
   "metadata": {},
   "outputs": [
    {
     "data": {
      "text/html": [
       "<div>\n",
       "<style scoped>\n",
       "    .dataframe tbody tr th:only-of-type {\n",
       "        vertical-align: middle;\n",
       "    }\n",
       "\n",
       "    .dataframe tbody tr th {\n",
       "        vertical-align: top;\n",
       "    }\n",
       "\n",
       "    .dataframe thead th {\n",
       "        text-align: right;\n",
       "    }\n",
       "</style>\n",
       "<table border=\"1\" class=\"dataframe\">\n",
       "  <thead>\n",
       "    <tr style=\"text-align: right;\">\n",
       "      <th></th>\n",
       "      <th>Burn Rate</th>\n",
       "      <th>Company Type</th>\n",
       "      <th>Date of Joining</th>\n",
       "      <th>Designation</th>\n",
       "      <th>Employee ID</th>\n",
       "      <th>Gender</th>\n",
       "      <th>Mental Fatigue Score</th>\n",
       "      <th>Resource Allocation</th>\n",
       "      <th>WFH Setup Available</th>\n",
       "      <th>data</th>\n",
       "    </tr>\n",
       "  </thead>\n",
       "  <tbody>\n",
       "    <tr>\n",
       "      <th>0</th>\n",
       "      <td>0.16</td>\n",
       "      <td>Service</td>\n",
       "      <td>2008-09-30</td>\n",
       "      <td>2.0</td>\n",
       "      <td>fffe32003000360033003200</td>\n",
       "      <td>Female</td>\n",
       "      <td>3.8</td>\n",
       "      <td>3.0</td>\n",
       "      <td>No</td>\n",
       "      <td>train</td>\n",
       "    </tr>\n",
       "    <tr>\n",
       "      <th>1</th>\n",
       "      <td>0.36</td>\n",
       "      <td>Service</td>\n",
       "      <td>2008-11-30</td>\n",
       "      <td>1.0</td>\n",
       "      <td>fffe3700360033003500</td>\n",
       "      <td>Male</td>\n",
       "      <td>5.0</td>\n",
       "      <td>2.0</td>\n",
       "      <td>Yes</td>\n",
       "      <td>train</td>\n",
       "    </tr>\n",
       "    <tr>\n",
       "      <th>2</th>\n",
       "      <td>0.49</td>\n",
       "      <td>Product</td>\n",
       "      <td>2008-03-10</td>\n",
       "      <td>2.0</td>\n",
       "      <td>fffe31003300320037003900</td>\n",
       "      <td>Female</td>\n",
       "      <td>5.8</td>\n",
       "      <td>NaN</td>\n",
       "      <td>Yes</td>\n",
       "      <td>train</td>\n",
       "    </tr>\n",
       "    <tr>\n",
       "      <th>3</th>\n",
       "      <td>0.20</td>\n",
       "      <td>Service</td>\n",
       "      <td>2008-11-03</td>\n",
       "      <td>1.0</td>\n",
       "      <td>fffe32003400380032003900</td>\n",
       "      <td>Male</td>\n",
       "      <td>2.6</td>\n",
       "      <td>1.0</td>\n",
       "      <td>Yes</td>\n",
       "      <td>train</td>\n",
       "    </tr>\n",
       "    <tr>\n",
       "      <th>4</th>\n",
       "      <td>0.52</td>\n",
       "      <td>Service</td>\n",
       "      <td>2008-07-24</td>\n",
       "      <td>3.0</td>\n",
       "      <td>fffe31003900340031003600</td>\n",
       "      <td>Female</td>\n",
       "      <td>6.9</td>\n",
       "      <td>7.0</td>\n",
       "      <td>No</td>\n",
       "      <td>train</td>\n",
       "    </tr>\n",
       "  </tbody>\n",
       "</table>\n",
       "</div>"
      ],
      "text/plain": [
       "   Burn Rate Company Type Date of Joining  Designation  \\\n",
       "0       0.16      Service      2008-09-30          2.0   \n",
       "1       0.36      Service      2008-11-30          1.0   \n",
       "2       0.49      Product      2008-03-10          2.0   \n",
       "3       0.20      Service      2008-11-03          1.0   \n",
       "4       0.52      Service      2008-07-24          3.0   \n",
       "\n",
       "                Employee ID  Gender  Mental Fatigue Score  \\\n",
       "0  fffe32003000360033003200  Female                   3.8   \n",
       "1      fffe3700360033003500    Male                   5.0   \n",
       "2  fffe31003300320037003900  Female                   5.8   \n",
       "3  fffe32003400380032003900    Male                   2.6   \n",
       "4  fffe31003900340031003600  Female                   6.9   \n",
       "\n",
       "   Resource Allocation WFH Setup Available   data  \n",
       "0                  3.0                  No  train  \n",
       "1                  2.0                 Yes  train  \n",
       "2                  NaN                 Yes  train  \n",
       "3                  1.0                 Yes  train  \n",
       "4                  7.0                  No  train  "
      ]
     },
     "execution_count": 4,
     "metadata": {},
     "output_type": "execute_result"
    }
   ],
   "source": [
    "data.head()"
   ]
  },
  {
   "cell_type": "markdown",
   "id": "6128670f",
   "metadata": {},
   "source": [
    "the shape of the dataset\n",
    "\n",
    "The shape attribute tells us a number of observations and variables we have in the data set. It is used to check the dimension of data. The dataset has 139668 observations and 17 variables in the dataset."
   ]
  },
  {
   "cell_type": "code",
   "execution_count": 5,
   "id": "fb58a3da",
   "metadata": {},
   "outputs": [
    {
     "data": {
      "text/plain": [
       "(35000, 10)"
      ]
     },
     "execution_count": 5,
     "metadata": {},
     "output_type": "execute_result"
    }
   ],
   "source": [
    "data.shape"
   ]
  },
  {
   "cell_type": "markdown",
   "id": "563428fb",
   "metadata": {},
   "source": [
    "info of the dataset\n",
    "\n",
    "is used to check the Information about the data and the datatypes of each respective attribute."
   ]
  },
  {
   "cell_type": "code",
   "execution_count": 6,
   "id": "b05e187a",
   "metadata": {},
   "outputs": [
    {
     "name": "stdout",
     "output_type": "stream",
     "text": [
      "<class 'pandas.core.frame.DataFrame'>\n",
      "Int64Index: 35000 entries, 0 to 12249\n",
      "Data columns (total 10 columns):\n",
      " #   Column                Non-Null Count  Dtype  \n",
      "---  ------                --------------  -----  \n",
      " 0   Burn Rate             21626 non-null  float64\n",
      " 1   Company Type          35000 non-null  object \n",
      " 2   Date of Joining       35000 non-null  object \n",
      " 3   Designation           35000 non-null  float64\n",
      " 4   Employee ID           35000 non-null  object \n",
      " 5   Gender                35000 non-null  object \n",
      " 6   Mental Fatigue Score  32883 non-null  float64\n",
      " 7   Resource Allocation   33619 non-null  float64\n",
      " 8   WFH Setup Available   35000 non-null  object \n",
      " 9   data                  35000 non-null  object \n",
      "dtypes: float64(4), object(6)\n",
      "memory usage: 2.9+ MB\n"
     ]
    }
   ],
   "source": [
    "data.info()"
   ]
  },
  {
   "cell_type": "markdown",
   "id": "4052009f",
   "metadata": {},
   "source": [
    "summary of the dataset\n",
    "\n",
    "The described method will help to see how data has been spread for numerical values. We can clearly see the minimum value, mean values, different percentile values, and maximum values."
   ]
  },
  {
   "cell_type": "code",
   "execution_count": 7,
   "id": "d2902d48",
   "metadata": {},
   "outputs": [
    {
     "data": {
      "text/html": [
       "<div>\n",
       "<style scoped>\n",
       "    .dataframe tbody tr th:only-of-type {\n",
       "        vertical-align: middle;\n",
       "    }\n",
       "\n",
       "    .dataframe tbody tr th {\n",
       "        vertical-align: top;\n",
       "    }\n",
       "\n",
       "    .dataframe thead th {\n",
       "        text-align: right;\n",
       "    }\n",
       "</style>\n",
       "<table border=\"1\" class=\"dataframe\">\n",
       "  <thead>\n",
       "    <tr style=\"text-align: right;\">\n",
       "      <th></th>\n",
       "      <th>Burn Rate</th>\n",
       "      <th>Designation</th>\n",
       "      <th>Mental Fatigue Score</th>\n",
       "      <th>Resource Allocation</th>\n",
       "    </tr>\n",
       "  </thead>\n",
       "  <tbody>\n",
       "    <tr>\n",
       "      <th>count</th>\n",
       "      <td>21626.000000</td>\n",
       "      <td>35000.000000</td>\n",
       "      <td>32883.000000</td>\n",
       "      <td>33619.000000</td>\n",
       "    </tr>\n",
       "    <tr>\n",
       "      <th>mean</th>\n",
       "      <td>0.452005</td>\n",
       "      <td>2.177514</td>\n",
       "      <td>5.725350</td>\n",
       "      <td>4.473185</td>\n",
       "    </tr>\n",
       "    <tr>\n",
       "      <th>std</th>\n",
       "      <td>0.198226</td>\n",
       "      <td>1.134339</td>\n",
       "      <td>1.918292</td>\n",
       "      <td>2.046623</td>\n",
       "    </tr>\n",
       "    <tr>\n",
       "      <th>min</th>\n",
       "      <td>0.000000</td>\n",
       "      <td>0.000000</td>\n",
       "      <td>0.000000</td>\n",
       "      <td>1.000000</td>\n",
       "    </tr>\n",
       "    <tr>\n",
       "      <th>25%</th>\n",
       "      <td>0.310000</td>\n",
       "      <td>1.000000</td>\n",
       "      <td>4.500000</td>\n",
       "      <td>3.000000</td>\n",
       "    </tr>\n",
       "    <tr>\n",
       "      <th>50%</th>\n",
       "      <td>0.450000</td>\n",
       "      <td>2.000000</td>\n",
       "      <td>5.900000</td>\n",
       "      <td>4.000000</td>\n",
       "    </tr>\n",
       "    <tr>\n",
       "      <th>75%</th>\n",
       "      <td>0.590000</td>\n",
       "      <td>3.000000</td>\n",
       "      <td>7.100000</td>\n",
       "      <td>6.000000</td>\n",
       "    </tr>\n",
       "    <tr>\n",
       "      <th>max</th>\n",
       "      <td>1.000000</td>\n",
       "      <td>5.000000</td>\n",
       "      <td>10.000000</td>\n",
       "      <td>10.000000</td>\n",
       "    </tr>\n",
       "  </tbody>\n",
       "</table>\n",
       "</div>"
      ],
      "text/plain": [
       "          Burn Rate   Designation  Mental Fatigue Score  Resource Allocation\n",
       "count  21626.000000  35000.000000          32883.000000         33619.000000\n",
       "mean       0.452005      2.177514              5.725350             4.473185\n",
       "std        0.198226      1.134339              1.918292             2.046623\n",
       "min        0.000000      0.000000              0.000000             1.000000\n",
       "25%        0.310000      1.000000              4.500000             3.000000\n",
       "50%        0.450000      2.000000              5.900000             4.000000\n",
       "75%        0.590000      3.000000              7.100000             6.000000\n",
       "max        1.000000      5.000000             10.000000            10.000000"
      ]
     },
     "execution_count": 7,
     "metadata": {},
     "output_type": "execute_result"
    }
   ],
   "source": [
    "data.describe()"
   ]
  },
  {
   "cell_type": "markdown",
   "id": "a2ac4a80",
   "metadata": {},
   "source": [
    " Check dataset features set names"
   ]
  },
  {
   "cell_type": "code",
   "execution_count": 8,
   "id": "693216f5",
   "metadata": {},
   "outputs": [
    {
     "data": {
      "text/plain": [
       "Index(['Burn Rate', 'Company Type', 'Date of Joining', 'Designation',\n",
       "       'Employee ID', 'Gender', 'Mental Fatigue Score', 'Resource Allocation',\n",
       "       'WFH Setup Available', 'data'],\n",
       "      dtype='object')"
      ]
     },
     "execution_count": 8,
     "metadata": {},
     "output_type": "execute_result"
    }
   ],
   "source": [
    "data.columns"
   ]
  },
  {
   "cell_type": "markdown",
   "id": "67874e9a",
   "metadata": {},
   "source": [
    "This data has 9 independent variables and Burn Rate as the dependent variable (to be predicted). In predictive modeling, we should always check missing values in data. If any data is missing, we can use methods like mean, median, and predictive modeling imputation to make up for missing data."
   ]
  },
  {
   "cell_type": "markdown",
   "id": "afd9fa04",
   "metadata": {},
   "source": [
    "### the distribution of Company Type column"
   ]
  },
  {
   "cell_type": "code",
   "execution_count": 9,
   "id": "1aabb781",
   "metadata": {},
   "outputs": [
    {
     "data": {
      "text/html": [
       "<div>\n",
       "<style scoped>\n",
       "    .dataframe tbody tr th:only-of-type {\n",
       "        vertical-align: middle;\n",
       "    }\n",
       "\n",
       "    .dataframe tbody tr th {\n",
       "        vertical-align: top;\n",
       "    }\n",
       "\n",
       "    .dataframe thead th {\n",
       "        text-align: right;\n",
       "    }\n",
       "</style>\n",
       "<table border=\"1\" class=\"dataframe\">\n",
       "  <thead>\n",
       "    <tr style=\"text-align: right;\">\n",
       "      <th>col_0</th>\n",
       "      <th>count</th>\n",
       "    </tr>\n",
       "    <tr>\n",
       "      <th>Company Type</th>\n",
       "      <th></th>\n",
       "    </tr>\n",
       "  </thead>\n",
       "  <tbody>\n",
       "    <tr>\n",
       "      <th>Service</th>\n",
       "      <td>22837</td>\n",
       "    </tr>\n",
       "    <tr>\n",
       "      <th>Product</th>\n",
       "      <td>12163</td>\n",
       "    </tr>\n",
       "  </tbody>\n",
       "</table>\n",
       "</div>"
      ],
      "text/plain": [
       "col_0         count\n",
       "Company Type       \n",
       "Service       22837\n",
       "Product       12163"
      ]
     },
     "execution_count": 9,
     "metadata": {},
     "output_type": "execute_result"
    }
   ],
   "source": [
    "def frequency_table(data, column):\n",
    "    return pd.crosstab(index=data[column],  \n",
    "                           columns=\"count\").sort_values(by = \"count\", \n",
    "                                                        ascending = False)\n",
    "freq_tab = frequency_table(data, \"Company Type\")\n",
    "freq_tab"
   ]
  },
  {
   "cell_type": "markdown",
   "id": "375586a0",
   "metadata": {},
   "source": [
    "### Data Cleaning"
   ]
  },
  {
   "cell_type": "markdown",
   "id": "f46059c6",
   "metadata": {},
   "source": [
    "### Check for missing value"
   ]
  },
  {
   "cell_type": "code",
   "execution_count": 10,
   "id": "fee26c46",
   "metadata": {},
   "outputs": [
    {
     "data": {
      "image/png": "[encoded data removed]",
      "text/plain": [
       "<Figure size 864x288 with 1 Axes>"
      ]
     },
     "metadata": {
      "needs_background": "light"
     },
     "output_type": "display_data"
    }
   ],
   "source": [
    "plt.figure(figsize=(12,4))\n",
    "sns.heatmap(data.isnull(),cbar=False,cmap='viridis',yticklabels=False)\n",
    "plt.title('Missing value in the dataset');"
   ]
  },
  {
   "cell_type": "markdown",
   "id": "510ac57a",
   "metadata": {},
   "source": [
    " Handling missing value"
   ]
  },
  {
   "cell_type": "code",
   "execution_count": 11,
   "id": "299caf5c",
   "metadata": {},
   "outputs": [
    {
     "data": {
      "text/plain": [
       "Burn Rate               13374\n",
       "Company Type                0\n",
       "Date of Joining             0\n",
       "Designation                 0\n",
       "Employee ID                 0\n",
       "Gender                      0\n",
       "Mental Fatigue Score     2117\n",
       "Resource Allocation      1381\n",
       "WFH Setup Available         0\n",
       "data                        0\n",
       "dtype: int64"
      ]
     },
     "execution_count": 11,
     "metadata": {},
     "output_type": "execute_result"
    }
   ],
   "source": [
    "#Check out the Missing Values\n",
    "data.isnull().sum()"
   ]
  },
  {
   "cell_type": "code",
   "execution_count": 12,
   "id": "149bce77",
   "metadata": {},
   "outputs": [
    {
     "data": {
      "text/plain": [
       "Burn Rate                  0\n",
       "Company Type               0\n",
       "Date of Joining            0\n",
       "Designation                0\n",
       "Employee ID                0\n",
       "Gender                     0\n",
       "Mental Fatigue Score    2117\n",
       "Resource Allocation     1381\n",
       "WFH Setup Available        0\n",
       "data                       0\n",
       "dtype: int64"
      ]
     },
     "execution_count": 12,
     "metadata": {},
     "output_type": "execute_result"
    }
   ],
   "source": [
    "#handling missing values data\n",
    "\"\"\"\n",
    "1. Burn Rate : this field datatype is float and charges based on Gender category. Therefore,\n",
    "we can take groupby mean of Gender and Burn Rate fill missing data\n",
    "\"\"\"\n",
    "\n",
    "data[\"Burn Rate\"] = data[\"Burn Rate\"].fillna(data.groupby('Gender')['Burn Rate'].transform('mean'))\n",
    "data.isnull().sum()"
   ]
  },
  {
   "cell_type": "code",
   "execution_count": 13,
   "id": "de0039a2",
   "metadata": {},
   "outputs": [
    {
     "data": {
      "text/plain": [
       "Burn Rate                  0\n",
       "Company Type               0\n",
       "Date of Joining            0\n",
       "Designation                0\n",
       "Employee ID                0\n",
       "Gender                     0\n",
       "Mental Fatigue Score       0\n",
       "Resource Allocation     1381\n",
       "WFH Setup Available        0\n",
       "data                       0\n",
       "dtype: int64"
      ]
     },
     "execution_count": 13,
     "metadata": {},
     "output_type": "execute_result"
    }
   ],
   "source": [
    "\"\"\"\n",
    "2. Mental Fatigue Score : this field datatype is float and charges based on Gender category. Therefore,\n",
    "we can take groupby mean of Gender and Mental Fatigue Score fill missing data\n",
    "\"\"\"\n",
    "\n",
    "data[\"Mental Fatigue Score\"] = data[\"Mental Fatigue Score\"].fillna(data.groupby('Gender')['Mental Fatigue Score'].transform('mean'))\n",
    "data.isnull().sum()"
   ]
  },
  {
   "cell_type": "code",
   "execution_count": 14,
   "id": "3e3ed54b",
   "metadata": {},
   "outputs": [
    {
     "data": {
      "text/plain": [
       "Burn Rate               0\n",
       "Company Type            0\n",
       "Date of Joining         0\n",
       "Designation             0\n",
       "Employee ID             0\n",
       "Gender                  0\n",
       "Mental Fatigue Score    0\n",
       "Resource Allocation     0\n",
       "WFH Setup Available     0\n",
       "data                    0\n",
       "dtype: int64"
      ]
     },
     "execution_count": 14,
     "metadata": {},
     "output_type": "execute_result"
    }
   ],
   "source": [
    "\"\"\"\n",
    "3. Resource Allocation : this field datatype is float and charges based on Gender category. Therefore,\n",
    "we can take groupby mean of Company Type and Designation and Resource Allocation fill missing data\n",
    "\"\"\"\n",
    "\n",
    "data[\"Resource Allocation\"] = data[\"Resource Allocation\"].fillna(data.groupby(['Designation','Company Type'])['Resource Allocation'].transform('median'))\n",
    "data.isnull().sum()"
   ]
  },
  {
   "cell_type": "code",
   "execution_count": 15,
   "id": "4d2e1269",
   "metadata": {},
   "outputs": [],
   "source": [
    "data = data[data[\"Burn Rate\"] > 0]"
   ]
  },
  {
   "cell_type": "markdown",
   "id": "b30101ab",
   "metadata": {},
   "source": [
    "### Assumptions for linear regression:\n",
    "\n",
    "1. There exists a **linear** and **additive** relationship between dependent (DV) and independent variables (IV). By linear, it means that the change in DV by 1 unit change in IV is constant. By additive, it refers to the effect of X on Y is independent of other variables.\n",
    "\n",
    "2. There must be **no correlation** among independent variables. Presence of correlation in independent variables lead to Multicollinearity. If variables are correlated, it becomes extremely difficult for the model to determine the true effect of IVs on DV.\n",
    "\n",
    "3. The **error terms** must possess constant variance. Absence of constant variance leads to heteroskedestacity.\n",
    "\n",
    "4. The error terms must be uncorrelated i.e. error at ∈t must not indicate the at error at ∈t+1. Presence of correlation in error terms is known as **Autocorrelation**. It drastically affects the regression coefficients and standard error values since they are based on the assumption of uncorrelated error terms.\n",
    "\n",
    "5. The dependent variable and the error terms must possess a normal distribution."
   ]
  },
  {
   "cell_type": "markdown",
   "id": "e0783ef9",
   "metadata": {},
   "source": [
    "Handling Categorical data"
   ]
  },
  {
   "cell_type": "code",
   "execution_count": 16,
   "id": "a1faac2c",
   "metadata": {},
   "outputs": [
    {
     "data": {
      "text/html": [
       "<div>\n",
       "<style scoped>\n",
       "    .dataframe tbody tr th:only-of-type {\n",
       "        vertical-align: middle;\n",
       "    }\n",
       "\n",
       "    .dataframe tbody tr th {\n",
       "        vertical-align: top;\n",
       "    }\n",
       "\n",
       "    .dataframe thead th {\n",
       "        text-align: right;\n",
       "    }\n",
       "</style>\n",
       "<table border=\"1\" class=\"dataframe\">\n",
       "  <thead>\n",
       "    <tr style=\"text-align: right;\">\n",
       "      <th></th>\n",
       "      <th>Burn Rate</th>\n",
       "      <th>Company Type</th>\n",
       "      <th>Date of Joining</th>\n",
       "      <th>Designation</th>\n",
       "      <th>Employee ID</th>\n",
       "      <th>Gender</th>\n",
       "      <th>Mental Fatigue Score</th>\n",
       "      <th>Resource Allocation</th>\n",
       "      <th>WFH Setup Available</th>\n",
       "      <th>data</th>\n",
       "    </tr>\n",
       "  </thead>\n",
       "  <tbody>\n",
       "    <tr>\n",
       "      <th>0</th>\n",
       "      <td>0.16</td>\n",
       "      <td>Service</td>\n",
       "      <td>2008-09-30</td>\n",
       "      <td>2.0</td>\n",
       "      <td>fffe32003000360033003200</td>\n",
       "      <td>Female</td>\n",
       "      <td>3.8</td>\n",
       "      <td>3.0</td>\n",
       "      <td>No</td>\n",
       "      <td>train</td>\n",
       "    </tr>\n",
       "    <tr>\n",
       "      <th>1</th>\n",
       "      <td>0.36</td>\n",
       "      <td>Service</td>\n",
       "      <td>2008-11-30</td>\n",
       "      <td>1.0</td>\n",
       "      <td>fffe3700360033003500</td>\n",
       "      <td>Male</td>\n",
       "      <td>5.0</td>\n",
       "      <td>2.0</td>\n",
       "      <td>Yes</td>\n",
       "      <td>train</td>\n",
       "    </tr>\n",
       "    <tr>\n",
       "      <th>2</th>\n",
       "      <td>0.49</td>\n",
       "      <td>Product</td>\n",
       "      <td>2008-03-10</td>\n",
       "      <td>2.0</td>\n",
       "      <td>fffe31003300320037003900</td>\n",
       "      <td>Female</td>\n",
       "      <td>5.8</td>\n",
       "      <td>4.0</td>\n",
       "      <td>Yes</td>\n",
       "      <td>train</td>\n",
       "    </tr>\n",
       "    <tr>\n",
       "      <th>3</th>\n",
       "      <td>0.20</td>\n",
       "      <td>Service</td>\n",
       "      <td>2008-11-03</td>\n",
       "      <td>1.0</td>\n",
       "      <td>fffe32003400380032003900</td>\n",
       "      <td>Male</td>\n",
       "      <td>2.6</td>\n",
       "      <td>1.0</td>\n",
       "      <td>Yes</td>\n",
       "      <td>train</td>\n",
       "    </tr>\n",
       "    <tr>\n",
       "      <th>4</th>\n",
       "      <td>0.52</td>\n",
       "      <td>Service</td>\n",
       "      <td>2008-07-24</td>\n",
       "      <td>3.0</td>\n",
       "      <td>fffe31003900340031003600</td>\n",
       "      <td>Female</td>\n",
       "      <td>6.9</td>\n",
       "      <td>7.0</td>\n",
       "      <td>No</td>\n",
       "      <td>train</td>\n",
       "    </tr>\n",
       "  </tbody>\n",
       "</table>\n",
       "</div>"
      ],
      "text/plain": [
       "   Burn Rate Company Type Date of Joining  Designation  \\\n",
       "0       0.16      Service      2008-09-30          2.0   \n",
       "1       0.36      Service      2008-11-30          1.0   \n",
       "2       0.49      Product      2008-03-10          2.0   \n",
       "3       0.20      Service      2008-11-03          1.0   \n",
       "4       0.52      Service      2008-07-24          3.0   \n",
       "\n",
       "                Employee ID  Gender  Mental Fatigue Score  \\\n",
       "0  fffe32003000360033003200  Female                   3.8   \n",
       "1      fffe3700360033003500    Male                   5.0   \n",
       "2  fffe31003300320037003900  Female                   5.8   \n",
       "3  fffe32003400380032003900    Male                   2.6   \n",
       "4  fffe31003900340031003600  Female                   6.9   \n",
       "\n",
       "   Resource Allocation WFH Setup Available   data  \n",
       "0                  3.0                  No  train  \n",
       "1                  2.0                 Yes  train  \n",
       "2                  4.0                 Yes  train  \n",
       "3                  1.0                 Yes  train  \n",
       "4                  7.0                  No  train  "
      ]
     },
     "execution_count": 16,
     "metadata": {},
     "output_type": "execute_result"
    }
   ],
   "source": [
    "data.head()"
   ]
  },
  {
   "cell_type": "code",
   "execution_count": 17,
   "id": "68d6239e",
   "metadata": {},
   "outputs": [
    {
     "name": "stdout",
     "output_type": "stream",
     "text": [
      "['fffe3100' 'fffe31003000' 'fffe310030003000' ... 'fffe3900390039003700'\n",
      " 'fffe3900390039003800' 'fffe3900390039003900']\n"
     ]
    },
    {
     "data": {
      "text/html": [
       "<div>\n",
       "<style scoped>\n",
       "    .dataframe tbody tr th:only-of-type {\n",
       "        vertical-align: middle;\n",
       "    }\n",
       "\n",
       "    .dataframe tbody tr th {\n",
       "        vertical-align: top;\n",
       "    }\n",
       "\n",
       "    .dataframe thead th {\n",
       "        text-align: right;\n",
       "    }\n",
       "</style>\n",
       "<table border=\"1\" class=\"dataframe\">\n",
       "  <thead>\n",
       "    <tr style=\"text-align: right;\">\n",
       "      <th></th>\n",
       "      <th>Burn Rate</th>\n",
       "      <th>Company Type</th>\n",
       "      <th>Date of Joining</th>\n",
       "      <th>Designation</th>\n",
       "      <th>Gender</th>\n",
       "      <th>Mental Fatigue Score</th>\n",
       "      <th>Resource Allocation</th>\n",
       "      <th>WFH Setup Available</th>\n",
       "      <th>data</th>\n",
       "      <th>employee_id1</th>\n",
       "    </tr>\n",
       "  </thead>\n",
       "  <tbody>\n",
       "    <tr>\n",
       "      <th>0</th>\n",
       "      <td>0.16</td>\n",
       "      <td>Service</td>\n",
       "      <td>2008-09-30</td>\n",
       "      <td>2.0</td>\n",
       "      <td>Female</td>\n",
       "      <td>3.8</td>\n",
       "      <td>3.0</td>\n",
       "      <td>No</td>\n",
       "      <td>train</td>\n",
       "      <td>11734</td>\n",
       "    </tr>\n",
       "    <tr>\n",
       "      <th>1</th>\n",
       "      <td>0.36</td>\n",
       "      <td>Service</td>\n",
       "      <td>2008-11-30</td>\n",
       "      <td>1.0</td>\n",
       "      <td>Male</td>\n",
       "      <td>5.0</td>\n",
       "      <td>2.0</td>\n",
       "      <td>Yes</td>\n",
       "      <td>train</td>\n",
       "      <td>32125</td>\n",
       "    </tr>\n",
       "    <tr>\n",
       "      <th>2</th>\n",
       "      <td>0.49</td>\n",
       "      <td>Product</td>\n",
       "      <td>2008-03-10</td>\n",
       "      <td>2.0</td>\n",
       "      <td>Female</td>\n",
       "      <td>5.8</td>\n",
       "      <td>4.0</td>\n",
       "      <td>Yes</td>\n",
       "      <td>train</td>\n",
       "      <td>3621</td>\n",
       "    </tr>\n",
       "    <tr>\n",
       "      <th>3</th>\n",
       "      <td>0.20</td>\n",
       "      <td>Service</td>\n",
       "      <td>2008-11-03</td>\n",
       "      <td>1.0</td>\n",
       "      <td>Male</td>\n",
       "      <td>2.6</td>\n",
       "      <td>1.0</td>\n",
       "      <td>Yes</td>\n",
       "      <td>train</td>\n",
       "      <td>16365</td>\n",
       "    </tr>\n",
       "    <tr>\n",
       "      <th>4</th>\n",
       "      <td>0.52</td>\n",
       "      <td>Service</td>\n",
       "      <td>2008-07-24</td>\n",
       "      <td>3.0</td>\n",
       "      <td>Female</td>\n",
       "      <td>6.9</td>\n",
       "      <td>7.0</td>\n",
       "      <td>No</td>\n",
       "      <td>train</td>\n",
       "      <td>10394</td>\n",
       "    </tr>\n",
       "  </tbody>\n",
       "</table>\n",
       "</div>"
      ],
      "text/plain": [
       "   Burn Rate Company Type Date of Joining  Designation  Gender  \\\n",
       "0       0.16      Service      2008-09-30          2.0  Female   \n",
       "1       0.36      Service      2008-11-30          1.0    Male   \n",
       "2       0.49      Product      2008-03-10          2.0  Female   \n",
       "3       0.20      Service      2008-11-03          1.0    Male   \n",
       "4       0.52      Service      2008-07-24          3.0  Female   \n",
       "\n",
       "   Mental Fatigue Score  Resource Allocation WFH Setup Available   data  \\\n",
       "0                   3.8                  3.0                  No  train   \n",
       "1                   5.0                  2.0                 Yes  train   \n",
       "2                   5.8                  4.0                 Yes  train   \n",
       "3                   2.6                  1.0                 Yes  train   \n",
       "4                   6.9                  7.0                  No  train   \n",
       "\n",
       "   employee_id1  \n",
       "0         11734  \n",
       "1         32125  \n",
       "2          3621  \n",
       "3         16365  \n",
       "4         10394  "
      ]
     },
     "execution_count": 17,
     "metadata": {},
     "output_type": "execute_result"
    }
   ],
   "source": [
    "from sklearn.preprocessing import LabelEncoder\n",
    "\n",
    "# creating instance of labelencoder\n",
    "le_emp_id = LabelEncoder()\n",
    "\n",
    "data['employee_id1'] = le_emp_id.fit(data['Employee ID'])\n",
    "print(le_emp_id.classes_)\n",
    "data['employee_id1'] = le_emp_id.transform(data['Employee ID'])\n",
    "\n",
    "data = data.drop(['Employee ID'],axis=1)\n",
    "data.head()"
   ]
  },
  {
   "cell_type": "code",
   "execution_count": 18,
   "id": "c00c7ff0",
   "metadata": {},
   "outputs": [
    {
     "data": {
      "text/html": [
       "<div>\n",
       "<style scoped>\n",
       "    .dataframe tbody tr th:only-of-type {\n",
       "        vertical-align: middle;\n",
       "    }\n",
       "\n",
       "    .dataframe tbody tr th {\n",
       "        vertical-align: top;\n",
       "    }\n",
       "\n",
       "    .dataframe thead th {\n",
       "        text-align: right;\n",
       "    }\n",
       "</style>\n",
       "<table border=\"1\" class=\"dataframe\">\n",
       "  <thead>\n",
       "    <tr style=\"text-align: right;\">\n",
       "      <th></th>\n",
       "      <th>Burn Rate</th>\n",
       "      <th>Designation</th>\n",
       "      <th>Mental Fatigue Score</th>\n",
       "      <th>Resource Allocation</th>\n",
       "      <th>employee_id1</th>\n",
       "    </tr>\n",
       "  </thead>\n",
       "  <tbody>\n",
       "    <tr>\n",
       "      <th>Burn Rate</th>\n",
       "      <td>1.000000</td>\n",
       "      <td>0.573885</td>\n",
       "      <td>0.685714</td>\n",
       "      <td>0.663852</td>\n",
       "      <td>-0.006824</td>\n",
       "    </tr>\n",
       "    <tr>\n",
       "      <th>Designation</th>\n",
       "      <td>0.573885</td>\n",
       "      <td>1.000000</td>\n",
       "      <td>0.662855</td>\n",
       "      <td>0.879392</td>\n",
       "      <td>-0.003971</td>\n",
       "    </tr>\n",
       "    <tr>\n",
       "      <th>Mental Fatigue Score</th>\n",
       "      <td>0.685714</td>\n",
       "      <td>0.662855</td>\n",
       "      <td>1.000000</td>\n",
       "      <td>0.768473</td>\n",
       "      <td>0.000322</td>\n",
       "    </tr>\n",
       "    <tr>\n",
       "      <th>Resource Allocation</th>\n",
       "      <td>0.663852</td>\n",
       "      <td>0.879392</td>\n",
       "      <td>0.768473</td>\n",
       "      <td>1.000000</td>\n",
       "      <td>-0.006989</td>\n",
       "    </tr>\n",
       "    <tr>\n",
       "      <th>employee_id1</th>\n",
       "      <td>-0.006824</td>\n",
       "      <td>-0.003971</td>\n",
       "      <td>0.000322</td>\n",
       "      <td>-0.006989</td>\n",
       "      <td>1.000000</td>\n",
       "    </tr>\n",
       "  </tbody>\n",
       "</table>\n",
       "</div>"
      ],
      "text/plain": [
       "                      Burn Rate  Designation  Mental Fatigue Score  \\\n",
       "Burn Rate              1.000000     0.573885              0.685714   \n",
       "Designation            0.573885     1.000000              0.662855   \n",
       "Mental Fatigue Score   0.685714     0.662855              1.000000   \n",
       "Resource Allocation    0.663852     0.879392              0.768473   \n",
       "employee_id1          -0.006824    -0.003971              0.000322   \n",
       "\n",
       "                      Resource Allocation  employee_id1  \n",
       "Burn Rate                        0.663852     -0.006824  \n",
       "Designation                      0.879392     -0.003971  \n",
       "Mental Fatigue Score             0.768473      0.000322  \n",
       "Resource Allocation              1.000000     -0.006989  \n",
       "employee_id1                    -0.006989      1.000000  "
      ]
     },
     "execution_count": 18,
     "metadata": {},
     "output_type": "execute_result"
    }
   ],
   "source": [
    "#to avoid multicollinearity, let's check correlation matrix.\n",
    "data.corr()"
   ]
  },
  {
   "cell_type": "code",
   "execution_count": 19,
   "id": "4e91dd01",
   "metadata": {},
   "outputs": [],
   "source": [
    "#Get a Visual Representation of the Correlation Matrix using Seaborn and Matplotlib\n",
    "import seaborn as sn\n",
    "import matplotlib.pyplot as plt"
   ]
  },
  {
   "cell_type": "markdown",
   "id": "d7c751ec",
   "metadata": {},
   "source": [
    "There are many ways you can plot correlation matrices one efficient way is using the heatmap. It is very easy to understand the correlation using heatmaps it tells the correlation of one feature(variable) to every other feature(variable). In other words, A correlation matrix is a tabular data representing the ‘correlations’ between pairs of variables in a given data."
   ]
  },
  {
   "cell_type": "code",
   "execution_count": 20,
   "id": "20684edb",
   "metadata": {},
   "outputs": [
    {
     "data": {
      "image/png": "[encoded data removed]",
      "text/plain": [
       "<Figure size 432x288 with 2 Axes>"
      ]
     },
     "metadata": {
      "needs_background": "light"
     },
     "output_type": "display_data"
    }
   ],
   "source": [
    "corrMatrix = data.corr()\n",
    "sn.heatmap(corrMatrix, annot=True)\n",
    "plt.show()"
   ]
  },
  {
   "cell_type": "markdown",
   "id": "8c64b548",
   "metadata": {},
   "source": [
    "You can do variable selection based on p values. If a variable shows p value > 0.05, we can remove that variable from model since at p> 0.05, we'll always fail to reject null hypothesis.\n",
    "\n",
    "At the last row i.e Selling_price,see how the Selling_price is correlated with other features Market_Category, Grade, Discount_avail, charges_1, Minimum_price,Maximum_price,Product_Category,instock_date, Loyalty_customer is the highly correlated with price range followed by Shall_no,Demand, Charges_2(%) seems to be least correlated with price_range."
   ]
  },
  {
   "cell_type": "code",
   "execution_count": 21,
   "id": "40aa497f",
   "metadata": {},
   "outputs": [],
   "source": [
    "data['Date of Joining'] = pd.to_datetime(data['Date of Joining'])\n",
    "# Extract features - year, month, day, hour\n",
    "data['year'] = data['Date of Joining'].dt.year \n",
    "data['month'] = data['Date of Joining'].dt.month \n",
    "data['day'] = data['Date of Joining'].dt.day \n",
    "data['hour'] = data['Date of Joining'].dt.hour\n"
   ]
  },
  {
   "cell_type": "code",
   "execution_count": 22,
   "id": "6f4c84dc",
   "metadata": {},
   "outputs": [
    {
     "name": "stdout",
     "output_type": "stream",
     "text": [
      "<class 'pandas.core.frame.DataFrame'>\n",
      "Int64Index: 34728 entries, 0 to 12249\n",
      "Data columns (total 14 columns):\n",
      " #   Column                Non-Null Count  Dtype         \n",
      "---  ------                --------------  -----         \n",
      " 0   Burn Rate             34728 non-null  float64       \n",
      " 1   Company Type          34728 non-null  object        \n",
      " 2   Date of Joining       34728 non-null  datetime64[ns]\n",
      " 3   Designation           34728 non-null  float64       \n",
      " 4   Gender                34728 non-null  object        \n",
      " 5   Mental Fatigue Score  34728 non-null  float64       \n",
      " 6   Resource Allocation   34728 non-null  float64       \n",
      " 7   WFH Setup Available   34728 non-null  object        \n",
      " 8   data                  34728 non-null  object        \n",
      " 9   employee_id1          34728 non-null  int32         \n",
      " 10  year                  34728 non-null  int64         \n",
      " 11  month                 34728 non-null  int64         \n",
      " 12  day                   34728 non-null  int64         \n",
      " 13  hour                  34728 non-null  int64         \n",
      "dtypes: datetime64[ns](1), float64(4), int32(1), int64(4), object(4)\n",
      "memory usage: 3.8+ MB\n"
     ]
    }
   ],
   "source": [
    "data.info()"
   ]
  },
  {
   "cell_type": "code",
   "execution_count": 23,
   "id": "16fc0a04",
   "metadata": {},
   "outputs": [],
   "source": [
    "data = pd.get_dummies(data, columns = [\"Company Type\", \"Gender\", \"WFH Setup Available\"], drop_first = True)"
   ]
  },
  {
   "cell_type": "code",
   "execution_count": 24,
   "id": "2ddd529b",
   "metadata": {},
   "outputs": [
    {
     "data": {
      "text/plain": [
       "Index(['Burn Rate', 'Date of Joining', 'Designation', 'Mental Fatigue Score',\n",
       "       'Resource Allocation', 'employee_id1', 'year', 'month', 'day', 'hour',\n",
       "       'Company Type_Service', 'Gender_Male', 'WFH Setup Available_Yes'],\n",
       "      dtype='object')"
      ]
     },
     "execution_count": 24,
     "metadata": {},
     "output_type": "execute_result"
    }
   ],
   "source": [
    "train=data[data['data']=='train']\n",
    "del train['data']\n",
    "train.columns"
   ]
  },
  {
   "cell_type": "code",
   "execution_count": 25,
   "id": "28f20560",
   "metadata": {},
   "outputs": [
    {
     "name": "stderr",
     "output_type": "stream",
     "text": [
      "C:\\Users\\anjal\\anaconda3\\lib\\site-packages\\pandas\\core\\frame.py:4308: SettingWithCopyWarning: \n",
      "A value is trying to be set on a copy of a slice from a DataFrame\n",
      "\n",
      "See the caveats in the documentation: https://pandas.pydata.org/pandas-docs/stable/user_guide/indexing.html#returning-a-view-versus-a-copy\n",
      "  return super().drop(\n"
     ]
    },
    {
     "data": {
      "text/plain": [
       "Index(['Date of Joining', 'Designation', 'Mental Fatigue Score',\n",
       "       'Resource Allocation', 'employee_id1', 'year', 'month', 'day', 'hour',\n",
       "       'Company Type_Service', 'Gender_Male', 'WFH Setup Available_Yes'],\n",
       "      dtype='object')"
      ]
     },
     "execution_count": 25,
     "metadata": {},
     "output_type": "execute_result"
    }
   ],
   "source": [
    "test=data[data['data']=='test']\n",
    "test.drop([\"data\", \"Burn Rate\"],axis=1,inplace=True)\n",
    "test.columns"
   ]
  },
  {
   "cell_type": "code",
   "execution_count": 26,
   "id": "d8c5d73f",
   "metadata": {},
   "outputs": [],
   "source": [
    "train = train[train[\"Burn Rate\"] > 0]"
   ]
  },
  {
   "cell_type": "code",
   "execution_count": 27,
   "id": "d36ba34c",
   "metadata": {},
   "outputs": [],
   "source": [
    "columns = [\"Designation\", \"Resource Allocation\",\"Mental Fatigue Score\",\"month\", \"day\",\"Date of Joining\"]\n",
    "train = train.drop(columns=columns)\n",
    "test = test.drop(columns=columns)\n"
   ]
  },
  {
   "cell_type": "code",
   "execution_count": 28,
   "id": "2e2d642e",
   "metadata": {},
   "outputs": [],
   "source": [
    "from sklearn.model_selection import train_test_split\n",
    "\n",
    "# Splitting data into train and validation sets\n",
    "y =  train[\"Burn Rate\"]\n",
    "X = train.loc[:, train.columns != 'Burn Rate']\n",
    "\n",
    "X_train, X_valid, y_train, y_valid= train_test_split(X, y, test_size=0.30, random_state=42)"
   ]
  },
  {
   "cell_type": "code",
   "execution_count": 29,
   "id": "3ee9ae60",
   "metadata": {},
   "outputs": [
    {
     "data": {
      "text/html": [
       "<div>\n",
       "<style scoped>\n",
       "    .dataframe tbody tr th:only-of-type {\n",
       "        vertical-align: middle;\n",
       "    }\n",
       "\n",
       "    .dataframe tbody tr th {\n",
       "        vertical-align: top;\n",
       "    }\n",
       "\n",
       "    .dataframe thead th {\n",
       "        text-align: right;\n",
       "    }\n",
       "</style>\n",
       "<table border=\"1\" class=\"dataframe\">\n",
       "  <thead>\n",
       "    <tr style=\"text-align: right;\">\n",
       "      <th></th>\n",
       "      <th>employee_id1</th>\n",
       "      <th>year</th>\n",
       "      <th>hour</th>\n",
       "      <th>Company Type_Service</th>\n",
       "      <th>Gender_Male</th>\n",
       "      <th>WFH Setup Available_Yes</th>\n",
       "    </tr>\n",
       "  </thead>\n",
       "  <tbody>\n",
       "    <tr>\n",
       "      <th>6880</th>\n",
       "      <td>1411</td>\n",
       "      <td>2008</td>\n",
       "      <td>0</td>\n",
       "      <td>0</td>\n",
       "      <td>0</td>\n",
       "      <td>1</td>\n",
       "    </tr>\n",
       "    <tr>\n",
       "      <th>14116</th>\n",
       "      <td>25230</td>\n",
       "      <td>2008</td>\n",
       "      <td>0</td>\n",
       "      <td>1</td>\n",
       "      <td>0</td>\n",
       "      <td>1</td>\n",
       "    </tr>\n",
       "    <tr>\n",
       "      <th>6621</th>\n",
       "      <td>14789</td>\n",
       "      <td>2008</td>\n",
       "      <td>0</td>\n",
       "      <td>1</td>\n",
       "      <td>1</td>\n",
       "      <td>0</td>\n",
       "    </tr>\n",
       "    <tr>\n",
       "      <th>20166</th>\n",
       "      <td>5442</td>\n",
       "      <td>2008</td>\n",
       "      <td>0</td>\n",
       "      <td>0</td>\n",
       "      <td>0</td>\n",
       "      <td>0</td>\n",
       "    </tr>\n",
       "    <tr>\n",
       "      <th>12692</th>\n",
       "      <td>10885</td>\n",
       "      <td>2008</td>\n",
       "      <td>0</td>\n",
       "      <td>1</td>\n",
       "      <td>0</td>\n",
       "      <td>1</td>\n",
       "    </tr>\n",
       "  </tbody>\n",
       "</table>\n",
       "</div>"
      ],
      "text/plain": [
       "       employee_id1  year  hour  Company Type_Service  Gender_Male  \\\n",
       "6880           1411  2008     0                     0            0   \n",
       "14116         25230  2008     0                     1            0   \n",
       "6621          14789  2008     0                     1            1   \n",
       "20166          5442  2008     0                     0            0   \n",
       "12692         10885  2008     0                     1            0   \n",
       "\n",
       "       WFH Setup Available_Yes  \n",
       "6880                         1  \n",
       "14116                        1  \n",
       "6621                         0  \n",
       "20166                        0  \n",
       "12692                        1  "
      ]
     },
     "execution_count": 29,
     "metadata": {},
     "output_type": "execute_result"
    }
   ],
   "source": [
    "X_valid.head()"
   ]
  },
  {
   "cell_type": "code",
   "execution_count": 30,
   "id": "f3451364",
   "metadata": {},
   "outputs": [
    {
     "name": "stdout",
     "output_type": "stream",
     "text": [
      "Intercept: 0.4901514727709462\n",
      "\n",
      "Number of coefficients: 6\n",
      "\n",
      "Feature coefficients:\n",
      "('employee_id1', -1.6555684530177417e-07)\n",
      "('year', 2.7755575615628914e-17)\n",
      "('hour', -3.469446951953614e-17)\n",
      "('Company Type_Service', 0.0035306484199918715)\n",
      "('Gender_Male', 0.0521808106769397)\n",
      "('WFH Setup Available_Yes', -0.10574868370225605)\n"
     ]
    }
   ],
   "source": [
    "from sklearn.linear_model import LinearRegression\n",
    "lin_reg = LinearRegression()\n",
    "\n",
    "# Fit the model\n",
    "lin_reg.fit(X_train,y_train)\n",
    "\n",
    "print(\"Intercept:\", lin_reg.intercept_)\n",
    "\n",
    "lr_coefficients = list(zip(X_train,lin_reg.coef_))\n",
    "print(\"\\nNumber of coefficients:\",len(lr_coefficients))\n",
    "print(\"\\nFeature coefficients:\",*lr_coefficients, sep='\\n')\n"
   ]
  },
  {
   "cell_type": "code",
   "execution_count": 31,
   "id": "cf80341d",
   "metadata": {},
   "outputs": [],
   "source": [
    "lr_predicted_train=abs(lin_reg.predict(X_train))\n",
    "lr_predicted_valid=abs(lin_reg.predict(X_valid))\n"
   ]
  },
  {
   "cell_type": "code",
   "execution_count": 32,
   "id": "74e13fab",
   "metadata": {},
   "outputs": [
    {
     "name": "stdout",
     "output_type": "stream",
     "text": [
      "train_rmse = 0.3710663632804303\n",
      "valid_rmse = 0.3707912475405773\n"
     ]
    }
   ],
   "source": [
    "from sklearn.metrics import mean_absolute_error\n",
    "import numpy as np\n",
    "\n",
    "\n",
    "rmse1 = np.sqrt(mean_absolute_error(y_train, lr_predicted_train))\n",
    "rmse2 = np.sqrt(mean_absolute_error(y_valid, lr_predicted_valid))\n",
    "print(\"train_rmse =\", rmse1)\n",
    "print(\"valid_rmse =\", rmse2)"
   ]
  },
  {
   "cell_type": "code",
   "execution_count": 33,
   "id": "e152bbfc",
   "metadata": {},
   "outputs": [
    {
     "name": "stdout",
     "output_type": "stream",
     "text": [
      "train_score = 99.87669371495073\n",
      "valid_score = 99.87627076531334\n"
     ]
    }
   ],
   "source": [
    "from sklearn.metrics import mean_squared_log_error\n",
    "\n",
    "\n",
    "RMSLE = np.sqrt(mean_squared_log_error(y_train,lr_predicted_train))\n",
    "score1 = max(0,100 - RMSLE)\n",
    "print(\"train_score =\", score1)\n",
    "RMSLE = np.sqrt(mean_squared_log_error(y_valid,lr_predicted_valid))\n",
    "score2 = max(0,100 - RMSLE)\n",
    "print(\"valid_score =\", score2)"
   ]
  },
  {
   "cell_type": "code",
   "execution_count": 34,
   "id": "4f9d3023",
   "metadata": {},
   "outputs": [
    {
     "data": {
      "text/html": [
       "<div>\n",
       "<style scoped>\n",
       "    .dataframe tbody tr th:only-of-type {\n",
       "        vertical-align: middle;\n",
       "    }\n",
       "\n",
       "    .dataframe tbody tr th {\n",
       "        vertical-align: top;\n",
       "    }\n",
       "\n",
       "    .dataframe thead th {\n",
       "        text-align: right;\n",
       "    }\n",
       "</style>\n",
       "<table border=\"1\" class=\"dataframe\">\n",
       "  <thead>\n",
       "    <tr style=\"text-align: right;\">\n",
       "      <th></th>\n",
       "      <th>employee_id1</th>\n",
       "      <th>year</th>\n",
       "      <th>hour</th>\n",
       "      <th>Company Type_Service</th>\n",
       "      <th>Gender_Male</th>\n",
       "      <th>WFH Setup Available_Yes</th>\n",
       "    </tr>\n",
       "  </thead>\n",
       "  <tbody>\n",
       "    <tr>\n",
       "      <th>0</th>\n",
       "      <td>4404</td>\n",
       "      <td>2008</td>\n",
       "      <td>0</td>\n",
       "      <td>1</td>\n",
       "      <td>0</td>\n",
       "      <td>0</td>\n",
       "    </tr>\n",
       "    <tr>\n",
       "      <th>1</th>\n",
       "      <td>3509</td>\n",
       "      <td>2008</td>\n",
       "      <td>0</td>\n",
       "      <td>0</td>\n",
       "      <td>0</td>\n",
       "      <td>1</td>\n",
       "    </tr>\n",
       "    <tr>\n",
       "      <th>2</th>\n",
       "      <td>27421</td>\n",
       "      <td>2008</td>\n",
       "      <td>0</td>\n",
       "      <td>0</td>\n",
       "      <td>1</td>\n",
       "      <td>1</td>\n",
       "    </tr>\n",
       "    <tr>\n",
       "      <th>3</th>\n",
       "      <td>8743</td>\n",
       "      <td>2008</td>\n",
       "      <td>0</td>\n",
       "      <td>1</td>\n",
       "      <td>0</td>\n",
       "      <td>0</td>\n",
       "    </tr>\n",
       "    <tr>\n",
       "      <th>4</th>\n",
       "      <td>18717</td>\n",
       "      <td>2008</td>\n",
       "      <td>0</td>\n",
       "      <td>0</td>\n",
       "      <td>0</td>\n",
       "      <td>0</td>\n",
       "    </tr>\n",
       "  </tbody>\n",
       "</table>\n",
       "</div>"
      ],
      "text/plain": [
       "   employee_id1  year  hour  Company Type_Service  Gender_Male  \\\n",
       "0          4404  2008     0                     1            0   \n",
       "1          3509  2008     0                     0            0   \n",
       "2         27421  2008     0                     0            1   \n",
       "3          8743  2008     0                     1            0   \n",
       "4         18717  2008     0                     0            0   \n",
       "\n",
       "   WFH Setup Available_Yes  \n",
       "0                        0  \n",
       "1                        1  \n",
       "2                        1  \n",
       "3                        0  \n",
       "4                        0  "
      ]
     },
     "execution_count": 34,
     "metadata": {},
     "output_type": "execute_result"
    }
   ],
   "source": [
    "test.head()"
   ]
  },
  {
   "cell_type": "code",
   "execution_count": 35,
   "id": "8cd9407a",
   "metadata": {},
   "outputs": [],
   "source": [
    "y_pred=abs(lin_reg.predict(test))\n"
   ]
  },
  {
   "cell_type": "code",
   "execution_count": 37,
   "id": "fb782940",
   "metadata": {},
   "outputs": [],
   "source": [
    "df_sub = pd.DataFrame()\n",
    "test['employee_id1'] = le_emp_id.inverse_transform(test['employee_id1'])\n",
    "df_sub['Employee ID'] = test['employee_id1']\n",
    "\n",
    "\n",
    "df_sub['Burn Rate'] = np.array(y_pred)\n"
   ]
  },
  {
   "cell_type": "code",
   "execution_count": 38,
   "id": "6719e06c",
   "metadata": {},
   "outputs": [],
   "source": [
    "df_sub.to_csv(\"submission.csv\",index=False)"
   ]
  },
  {
   "cell_type": "code",
   "execution_count": null,
   "id": "51ca8667",
   "metadata": {},
   "outputs": [],
   "source": []
  }
 ],
 "metadata": {
  "kernelspec": {
   "display_name": "Python 3",
   "language": "python",
   "name": "python3"
  },
  "language_info": {
   "codemirror_mode": {
    "name": "ipython",
    "version": 3
   },
   "file_extension": ".py",
   "mimetype": "text/x-python",
   "name": "python",
   "nbconvert_exporter": "python",
   "pygments_lexer": "ipython3",
   "version": "3.8.8"
  }
 },
 "nbformat": 4,
 "nbformat_minor": 5
}
